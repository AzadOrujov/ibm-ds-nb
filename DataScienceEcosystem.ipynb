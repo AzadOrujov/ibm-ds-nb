{
 "cells": [
  {
   "cell_type": "markdown",
   "id": "b5ed5bf1-9161-4461-b234-0851433e369b",
   "metadata": {},
   "source": [
    "# Data Science Tools and Environment"
   ]
  },
  {
   "cell_type": "markdown",
   "id": "54d829f7-7756-47c7-b537-d2626813a46f",
   "metadata": {},
   "source": [
    "## In this notebook Data Science Tools and Ecosystem are summarized"
   ]
  },
  {
   "cell_type": "markdown",
   "id": "1c97657e",
   "metadata": {},
   "source": [
    "## Objectives:\n",
    "\n",
    "* Python\n",
    "* SQL\n",
    "* Jupyter\n",
    "* R\n",
    "* RStudio\n",
    "* Git(Hub/Lab)\n",
    "\n"
   ]
  },
  {
   "cell_type": "markdown",
   "id": "c8aa8d55-1fd2-45e4-9ee6-5b18c67a4282",
   "metadata": {},
   "source": [
    "### Some of the popular languages that Data Scientists use are:\n",
    "\n",
    "1. Python\n",
    "2. R\n",
    "3. Julia\n",
    "4. JS"
   ]
  },
  {
   "cell_type": "markdown",
   "id": "70d12ddf-1872-473a-9e06-b26e26c6f257",
   "metadata": {},
   "source": [
    "### Some of the commonly used libraries used by Data Scientists:\n",
    "\n",
    "1. Pandas\n",
    "2. Mathplotlib\n",
    "3. PyTorch\n",
    "4. dplyr\n",
    "5. ggplot\n",
    "6. caret"
   ]
  },
  {
   "cell_type": "markdown",
   "id": "a3818931-3b7d-46da-97f4-d98a0593a509",
   "metadata": {},
   "source": [
    "  | Data Science Tools |\n",
    "  |--------------------|\n",
    "  |    Python          |\n",
    "  |     SQL            |\n",
    "  |    Jupyter         |\n",
    "  |   Git(Hub/Lab)     |\n",
    " "
   ]
  },
  {
   "cell_type": "markdown",
   "id": "151b6c42-6399-43bb-a509-8ca368670942",
   "metadata": {},
   "source": [
    "### Below are a few examples of evaluating arithmetic expressions in Python. \n"
   ]
  },
  {
   "cell_type": "markdown",
   "id": "bb355b8c-efd8-43ae-a1f2-d358fc2bf461",
   "metadata": {},
   "source": [
    "#### This a simple arithmetic expression to multiply then add integers."
   ]
  },
  {
   "cell_type": "code",
   "execution_count": 1,
   "id": "fb31e009-2f88-49aa-a224-ad70c0a88371",
   "metadata": {},
   "outputs": [
    {
     "data": {
      "text/plain": [
       "17"
      ]
     },
     "execution_count": 1,
     "metadata": {},
     "output_type": "execute_result"
    }
   ],
   "source": [
    "(3 * 4) + 5"
   ]
  },
  {
   "cell_type": "markdown",
   "id": "f1e72700-6650-4c9c-9698-b2d24b9b7ea9",
   "metadata": {},
   "source": [
    "#### This will convert 200 minutes to hours by dividing by 60 "
   ]
  },
  {
   "cell_type": "code",
   "execution_count": 1,
   "id": "42ac9b88",
   "metadata": {},
   "outputs": [
    {
     "name": "stdout",
     "output_type": "stream",
     "text": [
      "3.3333333333333335\n"
     ]
    }
   ],
   "source": [
    "m = 200 \n",
    "h = 200 / 60\n",
    "print(h)"
   ]
  },
  {
   "cell_type": "markdown",
   "id": "3acd875a",
   "metadata": {},
   "source": [
    "## Author\n",
    "\n",
    "Azad Orujov"
   ]
  },
  {
   "cell_type": "code",
   "execution_count": null,
   "id": "dab2fca8",
   "metadata": {},
   "outputs": [],
   "source": []
  }
 ],
 "metadata": {
  "kernelspec": {
   "display_name": "Python 3 (ipykernel)",
   "language": "python",
   "name": "python3"
  },
  "language_info": {
   "codemirror_mode": {
    "name": "ipython",
    "version": 3
   },
   "file_extension": ".py",
   "mimetype": "text/x-python",
   "name": "python",
   "nbconvert_exporter": "python",
   "pygments_lexer": "ipython3",
   "version": "3.11.2"
  }
 },
 "nbformat": 4,
 "nbformat_minor": 5
}
